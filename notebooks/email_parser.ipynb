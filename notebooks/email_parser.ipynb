{
 "cells": [
  {
   "cell_type": "code",
   "execution_count": null,
   "metadata": {},
   "outputs": [],
   "source": [
    "import extract_msg\n",
    "\n",
    "def get_msg_info(f):\n",
    "    msg = extract_msg.Message(f)\n",
    "\n",
    "    attachments = msg.attachments\n",
    "\n",
    "    if attachments:\n",
    "        for attachment in attachments:\n",
    "            attachment.save(customPath = \"../data/email/attachments\", customFilename = attachment.longFilename)\n",
    "\n",
    "\n",
    "    try:\n",
    "        msg_sender = msg.sender\n",
    "        msg_date = msg.date\n",
    "        msg_subj = msg.subject\n",
    "        msg_message = msg.body\n",
    "        #msg.save(text=True, customPath = \"../data/output\")\n",
    "        msg.close()\n",
    "        return msg_sender, msg_date, msg_subj, msg_message\n",
    "    except(UnicodeEncodeError,AttributeError,TypeError) as e:\n",
    "        pass # U    \n",
    "    \n"
   ]
  },
  {
   "cell_type": "code",
   "execution_count": null,
   "metadata": {},
   "outputs": [],
   "source": [
    "#def get names of files from a folder\n",
    "import os\n",
    "import glob\n",
    "\n",
    "path = r'../samples'\n",
    "all_files = glob.glob(os.path.join(path, \"*.msg\"))\n",
    "\n",
    "\n",
    "counter = 1\n",
    "for filename in all_files:\n",
    "    info = get_msg_info(filename)\n",
    "    print(info[3].replace('\\n',''))\n",
    "\n",
    "    filename = f\"output_{counter}.txt\"\n",
    "\n",
    "    while os.path.exists(filename):\n",
    "        counter += 1\n",
    "        filename = f\"output_{counter}.txt\"\n",
    "\n",
    "    with open(filename, \"w\") as f:\n",
    "        f.write(info[3].replace('\\r\\n','\\\\n').replace('\\n','\\\\n'))\n",
    "    "
   ]
  },
  {
   "cell_type": "code",
   "execution_count": null,
   "metadata": {},
   "outputs": [],
   "source": [
    "info[0]"
   ]
  },
  {
   "cell_type": "code",
   "execution_count": null,
   "metadata": {},
   "outputs": [],
   "source": [
    "path = r'../data/output'\n",
    "\n",
    "import os\n",
    "if not os.path.exists(\"../data/stage\"):\n",
    "    os.makedirs(\"../data/stage\")\n",
    "\n",
    "\n",
    "for root, dirs, files in os.walk(path):\n",
    "    path = root.split(os.sep)\n",
    "    #print((len(path) - 1) * '---', os.path.basename(root))\n",
    "    for file in files:\n",
    "        if file.endswith(\".txt\"):\n",
    "            os.renames(os.path.join(root, file), root.replace(\" \",\"_\").replace(\"data/output\",\"data/stage\") + \".txt\")\n",
    "            \n",
    "\n",
    "\n"
   ]
  },
  {
   "cell_type": "code",
   "execution_count": null,
   "metadata": {},
   "outputs": [],
   "source": [
    "import pdfkit\n",
    "\n",
    "for f in os.listdir(\"../data/stage/\"):\n",
    "    if f.endswith(\".html\"):\n",
    "        pdfkit.from_file(\"../data/stage/\" + f, \"../data/stage/\" + f.replace(\".html\",\".pdf\"))\n",
    "        os.remove(\"../data/stage/\" + f)"
   ]
  },
  {
   "cell_type": "code",
   "execution_count": null,
   "metadata": {},
   "outputs": [],
   "source": [
    "import pandas as pd\n",
    "import os\n",
    "\n",
    "if not os.path.exists(\"../data/chunk\"):\n",
    "    os.makedirs(\"../data/chunk\")\n",
    "\n",
    "#with open(os.path.join(\"../data\", \"product.csv\"), \"r\") as f:\n",
    "df = pd.read_csv(\"../data/products.csv\", sep=\",\", chunksize=1000, encoding=\"utf-8\")\n",
    "counter = 1000\n",
    "\n",
    "for chunk in df:\n",
    "    chunk.to_csv( os.path.join(\"../data/chunk/\",f\"products_{counter}.csv\"), mode='a', header=True, index=False)\n",
    "\n",
    "    counter+=1000"
   ]
  },
  {
   "cell_type": "code",
   "execution_count": null,
   "metadata": {},
   "outputs": [],
   "source": [
    "import pdfkit\n",
    "\n",
    "df = pd.read_csv(\"../data/chunk/products_1000.csv\", sep=\",\", encoding=\"utf-8\")\n",
    "df.to_html(\"../data/stage/products_1000.html\", index=False)\n",
    "pdfkit.from_file(\"../data/stage/products_1000.html\", \"../data/stage/products_1000.pdf\")\n",
    "\n",
    "\n",
    "\n",
    "\n"
   ]
  }
 ],
 "metadata": {
  "kernelspec": {
   "display_name": "mohawk",
   "language": "python",
   "name": "python3"
  },
  "language_info": {
   "codemirror_mode": {
    "name": "ipython",
    "version": 3
   },
   "file_extension": ".py",
   "mimetype": "text/x-python",
   "name": "python",
   "nbconvert_exporter": "python",
   "pygments_lexer": "ipython3",
   "version": "3.10.13"
  },
  "orig_nbformat": 4
 },
 "nbformat": 4,
 "nbformat_minor": 2
}
