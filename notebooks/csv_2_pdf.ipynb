{
 "cells": [
  {
   "cell_type": "code",
   "execution_count": null,
   "metadata": {},
   "outputs": [],
   "source": [
    "import pdfkit\n",
    "import padas as pd\n",
    "\n",
    "df = pd.read_csv(\"../data/Catalog_B.csv\", sep=\",\", encoding=\"utf-8\")\n",
    "df.to_html(\"../data/Catalog_B.html\", index=False)\n",
    "pdfkit.from_file(\"../data/Catalog_B.html\", \"../data/Catalog_B.pdf\")\n",
    "\n",
    "\n",
    "\n",
    "\n"
   ]
  }
 ],
 "metadata": {
  "language_info": {
   "name": "python"
  }
 },
 "nbformat": 4,
 "nbformat_minor": 2
}
