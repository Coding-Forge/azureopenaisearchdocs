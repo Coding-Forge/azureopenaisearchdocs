{
 "cells": [
  {
   "cell_type": "code",
   "execution_count": 1,
   "metadata": {},
   "outputs": [
    {
     "data": {
      "text/plain": [
       "True"
      ]
     },
     "execution_count": 1,
     "metadata": {},
     "output_type": "execute_result"
    }
   ],
   "source": [
    "import pdfkit\n",
    "import pandas as pd\n",
    "\n",
    "f = \"products\"\n",
    "\n",
    "df = pd.read_csv(f\"../data/{f}.csv\", sep=\",\", encoding=\"utf-8\")\n",
    "df.to_html(f\"../data/{f}.html\", index=False)\n",
    "pdfkit.from_file(f\"../data/{f}.html\", f\"../data/{f}.pdf\")\n",
    "\n"
   ]
  }
 ],
 "metadata": {
  "kernelspec": {
   "display_name": "mohawk",
   "language": "python",
   "name": "python3"
  },
  "language_info": {
   "codemirror_mode": {
    "name": "ipython",
    "version": 3
   },
   "file_extension": ".py",
   "mimetype": "text/x-python",
   "name": "python",
   "nbconvert_exporter": "python",
   "pygments_lexer": "ipython3",
   "version": "3.10.13"
  }
 },
 "nbformat": 4,
 "nbformat_minor": 2
}
